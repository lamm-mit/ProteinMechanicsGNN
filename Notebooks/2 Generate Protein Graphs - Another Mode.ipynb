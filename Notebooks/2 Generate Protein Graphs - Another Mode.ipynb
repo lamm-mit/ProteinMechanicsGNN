{
 "cells": [
  {
   "cell_type": "code",
   "execution_count": null,
   "metadata": {},
   "outputs": [],
   "source": [
    "from Bio.PDB import PDBParser\n",
    "from Bio.PDB.DSSP import DSSP, ss_to_index\n",
    "\n",
    "import numpy as np\n",
    "import torch\n",
    "from torch_geometric.data import Data"
   ]
  },
  {
   "cell_type": "code",
   "execution_count": null,
   "metadata": {},
   "outputs": [],
   "source": [
    "dist_th = 12.0  # threshold distance between CA atoms below which edges will be built\n",
    "idx_mode = 60  # first mode = 0, last mode = 63\n",
    "\n",
    "np.random.seed(0)\n",
    "torch.manual_seed(0)\n",
    "\n",
    "task_name_temp = 'all_th'+str(int(dist_th))\n",
    "task_name = task_name_temp+'_mode'+str(idx_mode)"
   ]
  },
  {
   "cell_type": "code",
   "execution_count": null,
   "metadata": {},
   "outputs": [],
   "source": [
    "with open(\"data/all_proteins_freqs_no_ratios.dat\") as f:\n",
    "    lines = f.read().split(\"\\n\")\n",
    "\n",
    "N_seq = len(lines)-1 # ignore the last blank line\n",
    "\n",
    "pdb_ids = []\n",
    "freqs_mode0 = []\n",
    "freqs = []\n",
    "for idx in range(N_seq):\n",
    "    line = lines[idx].split(\" \")\n",
    "    pdb_ids.append(line[1])\n",
    "    freqs_mode0.append(float(line[2]))\n",
    "    freqs.append(float(line[idx_mode+2]))"
   ]
  },
  {
   "cell_type": "code",
   "execution_count": null,
   "metadata": {},
   "outputs": [],
   "source": [
    "data_list_mode0 = torch.load('data/'+task_name_temp+'_mode0.pt')"
   ]
  },
  {
   "cell_type": "code",
   "execution_count": null,
   "metadata": {},
   "outputs": [],
   "source": [
    "data_list = []\n",
    "\n",
    "idx_freqs = 0\n",
    "for idx, data_mode0 in enumerate(data_list_mode0):\n",
    "    while data_mode0.y != freqs_mode0[idx_freqs]:\n",
    "        idx_freqs += 1  # skip the indices of excluded_pdb_ids\n",
    "    \n",
    "    # replace the first mode with another mode\n",
    "    data = Data(edge_attr=data_mode0.edge_attr, \n",
    "                edge_index=data_mode0.edge_index, \n",
    "                x=data_mode0.x, \n",
    "                y=torch.tensor([freqs[idx_freqs]], dtype=torch.float))\n",
    "    data_list.append(data)"
   ]
  },
  {
   "cell_type": "code",
   "execution_count": null,
   "metadata": {},
   "outputs": [],
   "source": [
    "N_data = len(data_list)\n",
    "print(f'Number of proteins: {N_data}')"
   ]
  },
  {
   "cell_type": "code",
   "execution_count": null,
   "metadata": {},
   "outputs": [],
   "source": [
    "torch.save(data_list, 'data/'+task_name+'.pt')"
   ]
  }
 ],
 "metadata": {
  "kernelspec": {
   "display_name": "Python 3",
   "language": "python",
   "name": "python3"
  },
  "language_info": {
   "codemirror_mode": {
    "name": "ipython",
    "version": 3
   },
   "file_extension": ".py",
   "mimetype": "text/x-python",
   "name": "python",
   "nbconvert_exporter": "python",
   "pygments_lexer": "ipython3",
   "version": "3.8.10"
  }
 },
 "nbformat": 4,
 "nbformat_minor": 4
}
