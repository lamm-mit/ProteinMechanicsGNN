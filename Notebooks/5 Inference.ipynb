{
 "cells": [
  {
   "cell_type": "code",
   "execution_count": null,
   "metadata": {},
   "outputs": [],
   "source": [
    "import numpy as np\n",
    "import torch\n",
    "from torch.nn import Linear\n",
    "import torch.nn.functional as F\n",
    "from torch.nn import ModuleList, Embedding\n",
    "from torch.nn import Sequential, ReLU, Linear\n",
    "from torch_geometric.data import DataLoader\n",
    "from torch_geometric.nn import PNAConv, BatchNorm, global_add_pool\n",
    "\n",
    "import time\n",
    "import matplotlib as mpl\n",
    "import matplotlib.pyplot as plt"
   ]
  },
  {
   "cell_type": "code",
   "execution_count": null,
   "metadata": {},
   "outputs": [],
   "source": [
    "dist_th = 12.0  # threshold distance between CA atoms below which edges will be built\n",
    "idx_mode = 0  # first mode = 0, last mode = 63\n",
    "\n",
    "batch_size = 32\n",
    "total_epochs = 100\n",
    "\n",
    "num_layers = 4\n",
    "\n",
    "np.random.seed(0)\n",
    "torch.manual_seed(0)\n",
    "\n",
    "task_name_temp = 'all_th'+str(int(dist_th))\n",
    "task_name = task_name_temp+'_mode'+str(idx_mode)"
   ]
  },
  {
   "cell_type": "code",
   "execution_count": null,
   "metadata": {},
   "outputs": [],
   "source": [
    "checkpoint = torch.load('data/'+task_name+'_Nlayer'+str(num_layers)+\n",
    "                        '_checkpoint'+str(total_epochs)+'.pt')\n",
    "test_dataset = checkpoint['test_dataset']\n",
    "test_loader_sub = DataLoader(test_dataset, batch_size=batch_size, shuffle=False)\n",
    "deg = checkpoint['deg']"
   ]
  },
  {
   "cell_type": "code",
   "execution_count": null,
   "metadata": {},
   "outputs": [],
   "source": [
    "class Net(torch.nn.Module):\n",
    "    def __init__(self):\n",
    "        super(Net, self).__init__()\n",
    "\n",
    "        self.node_emb = Embedding(20, 75)\n",
    "\n",
    "        aggregators = ['mean', 'std']\n",
    "        scalers = ['identity', 'amplification', 'attenuation']\n",
    "\n",
    "        self.convs = ModuleList()\n",
    "        self.batch_norms = ModuleList()\n",
    "        for _ in range(num_layers):\n",
    "            conv = PNAConv(in_channels=75, out_channels=75,\n",
    "                           aggregators=aggregators, scalers=scalers, deg=deg,\n",
    "                           edge_dim=1, towers=5, pre_layers=1, post_layers=1,\n",
    "                           divide_input=False)\n",
    "            self.convs.append(conv)\n",
    "            self.batch_norms.append(BatchNorm(75))\n",
    "\n",
    "        self.mlp = Sequential(Linear(75, 50), ReLU(), Linear(50, 25), ReLU(),\n",
    "                              Linear(25, 1))\n",
    "\n",
    "    def forward(self, x, edge_index, edge_attr, batch):\n",
    "        x = self.node_emb(x.squeeze())\n",
    "\n",
    "        for conv, batch_norm in zip(self.convs, self.batch_norms):\n",
    "            x = F.relu(batch_norm(conv(x, edge_index, edge_attr.unsqueeze(1))))\n",
    "\n",
    "        x = global_add_pool(x, batch)\n",
    "        return self.mlp(x)"
   ]
  },
  {
   "cell_type": "code",
   "execution_count": null,
   "metadata": {},
   "outputs": [],
   "source": [
    "device = torch.device('cuda' if torch.cuda.is_available() else 'cpu')\n",
    "model = Net().to(device)\n",
    "model.load_state_dict(checkpoint['model_state_dict'])"
   ]
  },
  {
   "cell_type": "code",
   "execution_count": null,
   "metadata": {},
   "outputs": [],
   "source": [
    "@torch.no_grad()\n",
    "def get_test_results(loader):\n",
    "    pred = []\n",
    "    truth = []\n",
    "    model.eval()\n",
    "    for data in loader:\n",
    "        data = data.to(device)\n",
    "        out = model(data.x, data.edge_index, data.edge_attr, data.batch)\n",
    "        pred += out.squeeze().tolist()\n",
    "        truth += data.y.tolist()\n",
    "    return pred, truth"
   ]
  },
  {
   "cell_type": "code",
   "execution_count": null,
   "metadata": {},
   "outputs": [],
   "source": [
    "t = time.time()\n",
    "pred, truth = get_test_results(test_loader_sub)\n",
    "print(f'Time: {time.time()-t:.4f}')"
   ]
  },
  {
   "cell_type": "code",
   "execution_count": null,
   "metadata": {},
   "outputs": [],
   "source": [
    "freqs_threshold = [8, 8, 10, 10, 12, 14, 14, 16,\n",
    "                  40, 40, 40, 40, 40, 40, 40, 40,\n",
    "                  40, 40, 40, 40, 40, 40, 40, 40,\n",
    "                  40, 40, 40, 40, 40, 40, 40, 40,\n",
    "                  40, 40, 40, 40, 40, 40, 40, 40,\n",
    "                  40, 40, 40, 40, 40, 40, 40, 40,\n",
    "                  40, 40, 40, 40, 40, 40, 40, 40,\n",
    "                  40, 40, 40, 40, 40, 40, 40, 40]\n",
    "freq_threshold = freqs_threshold[idx_mode]"
   ]
  },
  {
   "cell_type": "code",
   "execution_count": null,
   "metadata": {},
   "outputs": [],
   "source": [
    "mpl.rcParams['axes.linewidth'] = 10\n",
    "mpl.rcParams['xtick.major.size'] = 30\n",
    "mpl.rcParams['xtick.major.width'] = 10\n",
    "mpl.rcParams['ytick.major.size'] = 30\n",
    "mpl.rcParams['ytick.major.width'] = 10\n",
    "\n",
    "fontsize = 150\n",
    "plt.figure(figsize=(50,50))\n",
    "plt.scatter(truth, pred, s=100, cmap='coolwarm')\n",
    "plt.plot([0, freq_threshold], [0, freq_threshold], linewidth=5, color='grey') # diagonal line\n",
    "plt.xlabel('NMA frequency (cm$^{-1}$)', fontsize=fontsize)\n",
    "plt.ylabel('ML frequency (cm$^{-1}$)', fontsize=fontsize)\n",
    "plt.xticks(fontsize=fontsize)\n",
    "plt.yticks(fontsize=fontsize)\n",
    "plt.xlim([0, freq_threshold])\n",
    "plt.ylim([0, freq_threshold])\n",
    "plt.show()"
   ]
  }
 ],
 "metadata": {
  "kernelspec": {
   "display_name": "Python 3",
   "language": "python",
   "name": "python3"
  },
  "language_info": {
   "codemirror_mode": {
    "name": "ipython",
    "version": 3
   },
   "file_extension": ".py",
   "mimetype": "text/x-python",
   "name": "python",
   "nbconvert_exporter": "python",
   "pygments_lexer": "ipython3",
   "version": "3.8.10"
  }
 },
 "nbformat": 4,
 "nbformat_minor": 4
}
