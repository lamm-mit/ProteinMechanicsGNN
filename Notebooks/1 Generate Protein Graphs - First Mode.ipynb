{
 "cells": [
  {
   "cell_type": "code",
   "execution_count": null,
   "metadata": {},
   "outputs": [],
   "source": [
    "from Bio.PDB import PDBParser\n",
    "from Bio.PDB.DSSP import DSSP, ss_to_index\n",
    "\n",
    "import numpy as np\n",
    "import torch\n",
    "from torch_geometric.data import Data\n",
    "import time"
   ]
  },
  {
   "cell_type": "code",
   "execution_count": null,
   "metadata": {},
   "outputs": [],
   "source": [
    "dist_th = 12.0  # threshold distance between CA atoms below which edges will be built\n",
    "idx_mode = 0  # first mode = 0, last mode = 63\n",
    "\n",
    "np.random.seed(0)\n",
    "torch.manual_seed(0)\n",
    "\n",
    "task_name = 'all_th'+str(int(dist_th))+'_mode'+str(idx_mode)"
   ]
  },
  {
   "cell_type": "code",
   "execution_count": null,
   "metadata": {},
   "outputs": [],
   "source": [
    "with open(\"data/all_proteins_freqs_no_ratios.dat\") as f:\n",
    "    lines = f.read().split(\"\\n\")\n",
    "\n",
    "N_seq = len(lines)-1 # ignore the last blank line\n",
    "\n",
    "pdb_ids = []\n",
    "freqs = []\n",
    "for idx in range(N_seq):\n",
    "    line = lines[idx].split(\" \")\n",
    "    pdb_ids.append(line[1])\n",
    "    freqs.append(float(line[idx_mode+2]))"
   ]
  },
  {
   "cell_type": "code",
   "execution_count": null,
   "metadata": {},
   "outputs": [],
   "source": [
    "def load_vocab(filename):\n",
    "    try:\n",
    "        d = dict()\n",
    "        with open(filename) as f:\n",
    "            for idx, word in enumerate(f):\n",
    "                word = word.strip()\n",
    "                d[word] = idx\n",
    "\n",
    "    except IOError:\n",
    "        raise MyIOError(filename)\n",
    "    return d\n",
    "\n",
    "vocab_chars = load_vocab(\"food_chars.txt\")\n",
    "\n",
    "def get_node_features(model, pdb_path):\n",
    "    dssp = DSSP(model, pdb_path)\n",
    "    seq = []\n",
    "    ss = []\n",
    "    phi = []\n",
    "    psi = []\n",
    "    for key in list(dssp.keys()):\n",
    "        seq.append(vocab_chars[dssp[key][1]])\n",
    "    node_features = torch.tensor(seq, dtype=torch.long)\n",
    "    return node_features\n",
    "\n",
    "def pdb2graph(path, pdb_id):\n",
    "    pdb_path = path+\"/\"+pdb_id+\".pdb\"\n",
    "    parser = PDBParser()\n",
    "    structure = parser.get_structure(pdb_id, pdb_path)\n",
    "\n",
    "    # DSSP can only handle one model, and will only run calculations on the first model in the provided PDB file.\n",
    "    model = structure[0]\n",
    "    \n",
    "    node_features = get_node_features(model, pdb_path)\n",
    "    \n",
    "    residues = []\n",
    "    for chain in model:\n",
    "        #print(chain)\n",
    "        for residue in chain:\n",
    "            residues.append(residue)\n",
    "        #print(len(residues))\n",
    "    \n",
    "    edges = []\n",
    "    CA_distances = []\n",
    "    for idx1, residue1 in enumerate(residues):\n",
    "        for idx2, residue2 in enumerate(residues):\n",
    "            if residue1 != residue2:\n",
    "                # compute distance between CA atoms\n",
    "                try:\n",
    "                    distance = residue1['CA'] - residue2['CA']\n",
    "                except KeyError:\n",
    "                    ## no CA atom, e.g. for H_NAG\n",
    "                    continue\n",
    "                if distance < dist_th:\n",
    "                    edges.append([idx1, idx2])\n",
    "                    CA_distances.append(distance)\n",
    "    \n",
    "    edge_index = torch.tensor(edges, dtype=torch.long)\n",
    "    edge_attr = torch.tensor(CA_distances, dtype=torch.float)\n",
    "    \n",
    "    return node_features, edge_index.T, edge_attr"
   ]
  },
  {
   "cell_type": "code",
   "execution_count": null,
   "metadata": {},
   "outputs": [],
   "source": [
    "import warnings\n",
    "warnings.filterwarnings('ignore')\n",
    "\n",
    "data_list = []\n",
    "excluded_pdb_ids = [] # exclude problematic graphs from the dataset\n",
    "\n",
    "t = time.time()\n",
    "percetage = 0\n",
    "for idx, pdb_id in enumerate(pdb_ids):\n",
    "    try:\n",
    "        node_features, edge_index, edge_attr = pdb2graph('../PDB/pdb', pdb_id)\n",
    "        data = Data(edge_attr=edge_attr, \n",
    "                    edge_index=edge_index, \n",
    "                    x=node_features, \n",
    "                    y=torch.tensor([freqs[idx]], dtype=torch.float))\n",
    "        \n",
    "        if data.x.shape[0] != data.edge_index.max().item()+1:\n",
    "            excluded_pdb_ids.append(pdb_id)\n",
    "        elif data.contains_isolated_nodes():\n",
    "            excluded_pdb_ids.append(pdb_id)\n",
    "        else:\n",
    "            data_list.append(data)\n",
    "    except:\n",
    "        excluded_pdb_ids.append(pdb_id)\n",
    "        \n",
    "    precetage_inc = 1\n",
    "    if idx % int(N_seq / 100 * precetage_inc) == 0:\n",
    "        print(f'Data generated: {percetage}%, Time: {time.time()-t:.4f}')\n",
    "        percetage += precetage_inc\n",
    "        t = time.time()"
   ]
  },
  {
   "cell_type": "code",
   "execution_count": null,
   "metadata": {},
   "outputs": [],
   "source": [
    "N_data = len(data_list)\n",
    "print(f'Number of proteins: {N_data}')"
   ]
  },
  {
   "cell_type": "code",
   "execution_count": null,
   "metadata": {},
   "outputs": [],
   "source": [
    "torch.save(data_list, 'data/'+task_name+'.pt')"
   ]
  },
  {
   "cell_type": "code",
   "execution_count": null,
   "metadata": {},
   "outputs": [],
   "source": [
    "freqs_processed = torch.zeros(len(data_list), dtype=torch.float)\n",
    "for index, data in enumerate(data_list):\n",
    "    freqs_processed[index] = data.y\n",
    "torch.save(freqs_processed, 'data/'+task_name+'_freqs.pt')"
   ]
  }
 ],
 "metadata": {
  "kernelspec": {
   "display_name": "Python 3",
   "language": "python",
   "name": "python3"
  },
  "language_info": {
   "codemirror_mode": {
    "name": "ipython",
    "version": 3
   },
   "file_extension": ".py",
   "mimetype": "text/x-python",
   "name": "python",
   "nbconvert_exporter": "python",
   "pygments_lexer": "ipython3",
   "version": "3.8.10"
  }
 },
 "nbformat": 4,
 "nbformat_minor": 4
}
